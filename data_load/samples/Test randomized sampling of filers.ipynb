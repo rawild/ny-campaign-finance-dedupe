{
 "cells": [
  {
   "cell_type": "code",
   "execution_count": 1,
   "metadata": {},
   "outputs": [],
   "source": [
    "import pandas as pd"
   ]
  },
  {
   "cell_type": "code",
   "execution_count": 66,
   "metadata": {},
   "outputs": [],
   "source": [
    "filers_columns_table = pd.read_table('../../commcand/FILEREC.txt',skiprows=7, nrows=14, sep='\\s+', engine='python')\n",
    "filers_columns_names=filers_columns_table[\"FIELD\"]\n",
    "filers_columns_list=list(filers_columns_names.values)\n",
    "filers_df = pd.read_csv(\"../../commcand/COMMCAND.txt\", header=None, names=filers_columns_list, encoding=\"unicode_escape\")\n",
    "filers_df['COMMITTEE_TYPE'].fillna(value=0,inplace=True)"
   ]
  },
  {
   "cell_type": "code",
   "execution_count": 67,
   "metadata": {},
   "outputs": [
    {
     "data": {
      "text/plain": [
       "0           23447\n",
       "1           17239\n",
       "2            2154\n",
       "9            1175\n",
       "7T            468\n",
       "3             309\n",
       "4             183\n",
       "9B            145\n",
       "8             140\n",
       "7             106\n",
       "7C             84\n",
       "9U             34\n",
       "3H             33\n",
       "6              32\n",
       "7V             26\n",
       "4H             16\n",
       "5              16\n",
       "5H             14\n",
       "6H             10\n",
       "7H              7\n",
       "7HT             6\n",
       "7HV             1\n",
       "INACTIVE        1\n",
       "Name: COMMITTEE_TYPE, dtype: int64"
      ]
     },
     "execution_count": 67,
     "metadata": {},
     "output_type": "execute_result"
    }
   ],
   "source": [
    "filers_df['COMMITTEE_TYPE'].value_counts()"
   ]
  },
  {
   "cell_type": "code",
   "execution_count": 68,
   "metadata": {},
   "outputs": [],
   "source": [
    "filers_df_new = filers_df[~filers_df['COMMITTEE_TYPE'].isin(['7HV','INACTIVE'])]"
   ]
  },
  {
   "cell_type": "code",
   "execution_count": 69,
   "metadata": {},
   "outputs": [
    {
     "data": {
      "text/plain": [
       "(45644, 13)"
      ]
     },
     "execution_count": 69,
     "metadata": {},
     "output_type": "execute_result"
    }
   ],
   "source": [
    "filers_df_new.shape"
   ]
  },
  {
   "cell_type": "code",
   "execution_count": 70,
   "metadata": {},
   "outputs": [
    {
     "data": {
      "text/plain": [
       "(45644,)"
      ]
     },
     "execution_count": 70,
     "metadata": {},
     "output_type": "execute_result"
    }
   ],
   "source": [
    "from sklearn.preprocessing import LabelEncoder\n",
    "encoder = LabelEncoder()\n",
    "filers_committee_type = filers_df_new['COMMITTEE_TYPE'].astype(str)\n",
    "filers_committee_type.shape"
   ]
  },
  {
   "cell_type": "code",
   "execution_count": 71,
   "metadata": {},
   "outputs": [],
   "source": [
    "filers_committee_type_encoded = encoder.fit_transform(filers_committee_type)"
   ]
  },
  {
   "cell_type": "code",
   "execution_count": 72,
   "metadata": {},
   "outputs": [
    {
     "data": {
      "text/plain": [
       "45644"
      ]
     },
     "execution_count": 72,
     "metadata": {},
     "output_type": "execute_result"
    }
   ],
   "source": [
    "len(filers_committee_type_encoded)"
   ]
  },
  {
   "cell_type": "code",
   "execution_count": 88,
   "metadata": {},
   "outputs": [
    {
     "name": "stderr",
     "output_type": "stream",
     "text": [
      "/opt/anaconda3/lib/python3.7/site-packages/pandas/core/indexing.py:494: SettingWithCopyWarning: \n",
      "A value is trying to be set on a copy of a slice from a DataFrame.\n",
      "Try using .loc[row_indexer,col_indexer] = value instead\n",
      "\n",
      "See the caveats in the documentation: http://pandas.pydata.org/pandas-docs/stable/user_guide/indexing.html#returning-a-view-versus-a-copy\n",
      "  self.obj[item] = s\n"
     ]
    }
   ],
   "source": [
    "filers_df_new.loc[:,'COMMITTEE_TYPE_NUM'] = pd.DataFrame(filers_committee_type_encoded)"
   ]
  },
  {
   "cell_type": "code",
   "execution_count": 75,
   "metadata": {},
   "outputs": [],
   "source": [
    "filers_df_final =filers_df_new[~filers_df_new['COMMITTEE_TYPE_NUM'].isna()]"
   ]
  },
  {
   "cell_type": "code",
   "execution_count": 76,
   "metadata": {},
   "outputs": [
    {
     "data": {
      "text/plain": [
       "(45642, 14)"
      ]
     },
     "execution_count": 76,
     "metadata": {},
     "output_type": "execute_result"
    }
   ],
   "source": [
    "filers_df_final.shape"
   ]
  },
  {
   "cell_type": "code",
   "execution_count": 84,
   "metadata": {},
   "outputs": [],
   "source": [
    "from sklearn.model_selection import StratifiedShuffleSplit\n",
    "split_filers = StratifiedShuffleSplit(n_splits=1, test_size=0.75, random_state=17)\n",
    "for train_index, test_index in split_filers.split(filers_df_final, filers_df_final['COMMITTEE_TYPE_NUM']):\n",
    "    filers_train = filers_df_final.loc[train_index]"
   ]
  },
  {
   "cell_type": "code",
   "execution_count": 86,
   "metadata": {},
   "outputs": [
    {
     "data": {
      "text/plain": [
       "(11410, 14)"
      ]
     },
     "execution_count": 86,
     "metadata": {},
     "output_type": "execute_result"
    }
   ],
   "source": [
    "filers_train.shape"
   ]
  },
  {
   "cell_type": "code",
   "execution_count": null,
   "metadata": {},
   "outputs": [],
   "source": []
  }
 ],
 "metadata": {
  "kernelspec": {
   "display_name": "Python 3",
   "language": "python",
   "name": "python3"
  },
  "language_info": {
   "codemirror_mode": {
    "name": "ipython",
    "version": 3
   },
   "file_extension": ".py",
   "mimetype": "text/x-python",
   "name": "python",
   "nbconvert_exporter": "python",
   "pygments_lexer": "ipython3",
   "version": "3.7.0"
  }
 },
 "nbformat": 4,
 "nbformat_minor": 2
}
